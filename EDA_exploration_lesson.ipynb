{
 "cells": [
  {
   "attachments": {},
   "cell_type": "markdown",
   "metadata": {},
   "source": [
    "# Descriptive Statistics Superpowers\n",
    "\n",
    "## What is EDA?\n",
    "Exploratory Data Analysis refers to the critical process of performing initial investigations on data so as to discover patterns, to spot anomalies, to test hypothesis and to check assumptions with the help of summary statistics and graphical representations."
   ]
  },
  {
   "attachments": {},
   "cell_type": "markdown",
   "metadata": {},
   "source": []
  },
  {
   "cell_type": "code",
   "execution_count": null,
   "metadata": {},
   "outputs": [],
   "source": [
    "# mamba install pandas-profiling\n",
    "\n",
    "# mamba install ipywidgets\n",
    "\n",
    "import pandas_profiling\n",
    "import ipywidgets"
   ]
  }
 ],
 "metadata": {
  "kernelspec": {
   "display_name": "palooza",
   "language": "python",
   "name": "python3"
  },
  "language_info": {
   "name": "python",
   "version": "3.11.3"
  },
  "orig_nbformat": 4
 },
 "nbformat": 4,
 "nbformat_minor": 2
}
