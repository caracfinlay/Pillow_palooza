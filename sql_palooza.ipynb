{
 "cells": [
  {
   "attachments": {},
   "cell_type": "markdown",
   "metadata": {},
   "source": [
    "# SQL Data Exploration "
   ]
  },
  {
   "attachments": {},
   "cell_type": "markdown",
   "metadata": {},
   "source": [
    "For the purpose of keeping the SQL portion of this project available in our notebooks, we'll create an SQLite connection.\n",
    "\n",
    "Our team at Pillow Palooza has exported the clean and preprocessed data and created a schema for us to use in our analysis. We have also included extra columns (from public data sources) to enhance the analysis. "
   ]
  },
  {
   "attachments": {},
   "cell_type": "markdown",
   "metadata": {},
   "source": [
    "After meeting with your team, you wrote some questions to guide you along the analysis:\n",
    "1. What are the most popular neighborhoods for short-term rentals in New York City?\n",
    "2. What is the average rental price for short-term rentals in New York City, and how does it vary by neighborhood and property type?\n",
    "3. What are the most commonly rented property types on Airbnb in New York City, and how does this vary by neighborhood?\n",
    "4. What is the average length of stay for short-term rentals in New York City, and how does this vary by neighborhood and property type?\n",
    "5. How has demand for short-term rentals in New York City changed over time, and are there any seasonal trends that could impact business decisions?"
   ]
  },
  {
   "cell_type": "code",
   "execution_count": 1,
   "metadata": {},
   "outputs": [],
   "source": [
    "import pandas as pd\n",
    "import sqlite3\n"
   ]
  },
  {
   "cell_type": "code",
   "execution_count": 2,
   "metadata": {},
   "outputs": [],
   "source": [
    "# create the SQLite connection\n",
    "\n",
    "cnn = sqlite3.connect('palooza.db')"
   ]
  },
  {
   "cell_type": "code",
   "execution_count": 3,
   "metadata": {},
   "outputs": [],
   "source": [
    "# import the enriched data\n",
    "\n",
    "prices = pd.read_csv('data_enriched/query_prices.csv')\n",
    "room_types = pd.read_csv('data_enriched/query_room_types.csv')\n",
    "reviews = pd.read_csv('data_enriched/query_reviews.csv')"
   ]
  },
  {
   "cell_type": "code",
   "execution_count": 4,
   "metadata": {},
   "outputs": [
    {
     "data": {
      "text/plain": [
       "25209"
      ]
     },
     "execution_count": 4,
     "metadata": {},
     "output_type": "execute_result"
    }
   ],
   "source": [
    "# Save the data to SQLite\n",
    "\n",
    "prices.to_sql('prices', cnn, if_exists='replace')\n",
    "room_types.to_sql('room_types', cnn, if_exists='replace')\n",
    "reviews.to_sql('reviews', cnn, if_exists='replace')\n",
    "\n"
   ]
  },
  {
   "cell_type": "code",
   "execution_count": 5,
   "metadata": {},
   "outputs": [
    {
     "data": {
      "text/plain": [
       "'Connected: @palooza.db'"
      ]
     },
     "execution_count": 5,
     "metadata": {},
     "output_type": "execute_result"
    }
   ],
   "source": [
    "# Load the ipython-sql extension\n",
    "%load_ext sql\n",
    "\n",
    "# Connect to the SQLite database\n",
    "%sql sqlite:///palooza.db"
   ]
  },
  {
   "cell_type": "code",
   "execution_count": 6,
   "metadata": {},
   "outputs": [
    {
     "name": "stdout",
     "output_type": "stream",
     "text": [
      " * sqlite:///palooza.db\n",
      "Done.\n"
     ]
    },
    {
     "data": {
      "text/html": [
       "<table>\n",
       "    <thead>\n",
       "        <tr>\n",
       "            <th>COUNT(*)</th>\n",
       "        </tr>\n",
       "    </thead>\n",
       "    <tbody>\n",
       "        <tr>\n",
       "            <td>25202</td>\n",
       "        </tr>\n",
       "    </tbody>\n",
       "</table>"
      ],
      "text/plain": [
       "[(25202,)]"
      ]
     },
     "execution_count": 6,
     "metadata": {},
     "output_type": "execute_result"
    }
   ],
   "source": [
    "%%sql\n",
    "\n",
    "SELECT COUNT(*)\n",
    "FROM prices;\n"
   ]
  },
  {
   "cell_type": "code",
   "execution_count": 7,
   "metadata": {},
   "outputs": [
    {
     "name": "stdout",
     "output_type": "stream",
     "text": [
      " * sqlite:///palooza.db\n",
      "Done.\n"
     ]
    },
    {
     "data": {
      "text/html": [
       "<table>\n",
       "    <thead>\n",
       "        <tr>\n",
       "            <th>COUNT(*)</th>\n",
       "        </tr>\n",
       "    </thead>\n",
       "    <tbody>\n",
       "        <tr>\n",
       "            <td>25209</td>\n",
       "        </tr>\n",
       "    </tbody>\n",
       "</table>"
      ],
      "text/plain": [
       "[(25209,)]"
      ]
     },
     "execution_count": 7,
     "metadata": {},
     "output_type": "execute_result"
    }
   ],
   "source": [
    "%%sql\n",
    "\n",
    "SELECT COUNT(*)\n",
    "FROM room_types;"
   ]
  },
  {
   "cell_type": "code",
   "execution_count": 8,
   "metadata": {},
   "outputs": [
    {
     "name": "stdout",
     "output_type": "stream",
     "text": [
      " * sqlite:///palooza.db\n",
      "Done.\n"
     ]
    },
    {
     "data": {
      "text/html": [
       "<table>\n",
       "    <thead>\n",
       "        <tr>\n",
       "            <th>COUNT(*)</th>\n",
       "        </tr>\n",
       "    </thead>\n",
       "    <tbody>\n",
       "        <tr>\n",
       "            <td>25209</td>\n",
       "        </tr>\n",
       "    </tbody>\n",
       "</table>"
      ],
      "text/plain": [
       "[(25209,)]"
      ]
     },
     "execution_count": 8,
     "metadata": {},
     "output_type": "execute_result"
    }
   ],
   "source": [
    "%%sql\n",
    "\n",
    "SELECT COUNT(*)\n",
    "FROM reviews;"
   ]
  },
  {
   "attachments": {},
   "cell_type": "markdown",
   "metadata": {},
   "source": [
    "## Questions "
   ]
  },
  {
   "attachments": {},
   "cell_type": "markdown",
   "metadata": {},
   "source": [
    "1. What is the most common room type in NYC Airbnb listings?"
   ]
  },
  {
   "cell_type": "code",
   "execution_count": 9,
   "metadata": {},
   "outputs": [
    {
     "name": "stdout",
     "output_type": "stream",
     "text": [
      " * sqlite:///palooza.db\n",
      "Done.\n"
     ]
    },
    {
     "data": {
      "text/html": [
       "<table>\n",
       "    <thead>\n",
       "        <tr>\n",
       "            <th>room_type</th>\n",
       "            <th>type_count</th>\n",
       "        </tr>\n",
       "    </thead>\n",
       "    <tbody>\n",
       "        <tr>\n",
       "            <td>entire home/apt</td>\n",
       "            <td>13266</td>\n",
       "        </tr>\n",
       "        <tr>\n",
       "            <td>private room</td>\n",
       "            <td>11356</td>\n",
       "        </tr>\n",
       "        <tr>\n",
       "            <td>shared room</td>\n",
       "            <td>587</td>\n",
       "        </tr>\n",
       "    </tbody>\n",
       "</table>"
      ],
      "text/plain": [
       "[('entire home/apt', 13266), ('private room', 11356), ('shared room', 587)]"
      ]
     },
     "execution_count": 9,
     "metadata": {},
     "output_type": "execute_result"
    }
   ],
   "source": [
    "%%sql\n",
    "SELECT room_type, COUNT(*) type_count\n",
    "FROM room_types\n",
    "GROUP BY room_type\n",
    "ORDER BY 2 DESC"
   ]
  },
  {
   "attachments": {},
   "cell_type": "markdown",
   "metadata": {},
   "source": [
    "2. What is the average price of a listing by room type?"
   ]
  },
  {
   "cell_type": "code",
   "execution_count": 10,
   "metadata": {},
   "outputs": [
    {
     "name": "stdout",
     "output_type": "stream",
     "text": [
      " * sqlite:///palooza.db\n",
      "Done.\n"
     ]
    },
    {
     "data": {
      "text/html": [
       "<table>\n",
       "    <thead>\n",
       "        <tr>\n",
       "            <th>room_type</th>\n",
       "            <th>average_price</th>\n",
       "        </tr>\n",
       "    </thead>\n",
       "    <tbody>\n",
       "        <tr>\n",
       "            <td>entire home/apt</td>\n",
       "            <td>197.17</td>\n",
       "        </tr>\n",
       "        <tr>\n",
       "            <td>private room</td>\n",
       "            <td>81.67</td>\n",
       "        </tr>\n",
       "        <tr>\n",
       "            <td>shared room</td>\n",
       "            <td>53.65</td>\n",
       "        </tr>\n",
       "    </tbody>\n",
       "</table>"
      ],
      "text/plain": [
       "[('entire home/apt', 197.17), ('private room', 81.67), ('shared room', 53.65)]"
      ]
     },
     "execution_count": 10,
     "metadata": {},
     "output_type": "execute_result"
    }
   ],
   "source": [
    "%%sql\n",
    "SELECT room_type, ROUND(AVG(price),2) average_price\n",
    "FROM prices p\n",
    "JOIN room_types rt \n",
    "ON p.listing_id = rt.listing_id\n",
    "GROUP BY 1\n",
    "ORDER BY 2 DESC"
   ]
  },
  {
   "attachments": {},
   "cell_type": "markdown",
   "metadata": {},
   "source": [
    "3. Which borough has the highest average price per month?"
   ]
  },
  {
   "cell_type": "code",
   "execution_count": 11,
   "metadata": {},
   "outputs": [
    {
     "name": "stdout",
     "output_type": "stream",
     "text": [
      " * sqlite:///palooza.db\n",
      "Done.\n"
     ]
    },
    {
     "data": {
      "text/html": [
       "<table>\n",
       "    <thead>\n",
       "        <tr>\n",
       "            <th>borough</th>\n",
       "            <th>average_price</th>\n",
       "        </tr>\n",
       "    </thead>\n",
       "    <tbody>\n",
       "        <tr>\n",
       "            <td>Manhattan</td>\n",
       "            <td>184.0</td>\n",
       "        </tr>\n",
       "        <tr>\n",
       "            <td>Brooklyn</td>\n",
       "            <td>121.97</td>\n",
       "        </tr>\n",
       "        <tr>\n",
       "            <td>Queens</td>\n",
       "            <td>92.81</td>\n",
       "        </tr>\n",
       "        <tr>\n",
       "            <td>Staten Island</td>\n",
       "            <td>86.04</td>\n",
       "        </tr>\n",
       "        <tr>\n",
       "            <td>Bronx</td>\n",
       "            <td>79.24</td>\n",
       "        </tr>\n",
       "    </tbody>\n",
       "</table>"
      ],
      "text/plain": [
       "[('Manhattan', 184.0),\n",
       " ('Brooklyn', 121.97),\n",
       " ('Queens', 92.81),\n",
       " ('Staten Island', 86.04),\n",
       " ('Bronx', 79.24)]"
      ]
     },
     "execution_count": 11,
     "metadata": {},
     "output_type": "execute_result"
    }
   ],
   "source": [
    "%%sql\n",
    "\n",
    "SELECT borough, ROUND(AVG(price),2) average_price\n",
    "FROM prices\n",
    "GROUP BY 1\n",
    "ORDER BY 2 DESC"
   ]
  },
  {
   "attachments": {},
   "cell_type": "markdown",
   "metadata": {},
   "source": [
    "4. How many listings of each room type are in each borough?"
   ]
  },
  {
   "cell_type": "code",
   "execution_count": 12,
   "metadata": {},
   "outputs": [
    {
     "name": "stdout",
     "output_type": "stream",
     "text": [
      " * sqlite:///palooza.db\n",
      "Done.\n"
     ]
    },
    {
     "data": {
      "text/html": [
       "<table>\n",
       "    <thead>\n",
       "        <tr>\n",
       "            <th>borough</th>\n",
       "            <th>room_type</th>\n",
       "            <th>room_count</th>\n",
       "        </tr>\n",
       "    </thead>\n",
       "    <tbody>\n",
       "        <tr>\n",
       "            <td>Bronx</td>\n",
       "            <td>private room</td>\n",
       "            <td>403</td>\n",
       "        </tr>\n",
       "        <tr>\n",
       "            <td>Bronx</td>\n",
       "            <td>entire home/apt</td>\n",
       "            <td>261</td>\n",
       "        </tr>\n",
       "        <tr>\n",
       "            <td>Bronx</td>\n",
       "            <td>shared room</td>\n",
       "            <td>33</td>\n",
       "        </tr>\n",
       "        <tr>\n",
       "            <td>Brooklyn</td>\n",
       "            <td>entire home/apt</td>\n",
       "            <td>5367</td>\n",
       "        </tr>\n",
       "        <tr>\n",
       "            <td>Brooklyn</td>\n",
       "            <td>private room</td>\n",
       "            <td>4906</td>\n",
       "        </tr>\n",
       "        <tr>\n",
       "            <td>Brooklyn</td>\n",
       "            <td>shared room</td>\n",
       "            <td>187</td>\n",
       "        </tr>\n",
       "        <tr>\n",
       "            <td>Manhattan</td>\n",
       "            <td>entire home/apt</td>\n",
       "            <td>6170</td>\n",
       "        </tr>\n",
       "        <tr>\n",
       "            <td>Manhattan</td>\n",
       "            <td>private room</td>\n",
       "            <td>3901</td>\n",
       "        </tr>\n",
       "        <tr>\n",
       "            <td>Manhattan</td>\n",
       "            <td>shared room</td>\n",
       "            <td>251</td>\n",
       "        </tr>\n",
       "        <tr>\n",
       "            <td>Queens</td>\n",
       "            <td>private room</td>\n",
       "            <td>2009</td>\n",
       "        </tr>\n",
       "        <tr>\n",
       "            <td>Queens</td>\n",
       "            <td>entire home/apt</td>\n",
       "            <td>1335</td>\n",
       "        </tr>\n",
       "        <tr>\n",
       "            <td>Queens</td>\n",
       "            <td>shared room</td>\n",
       "            <td>112</td>\n",
       "        </tr>\n",
       "        <tr>\n",
       "            <td>Staten Island</td>\n",
       "            <td>entire home/apt</td>\n",
       "            <td>133</td>\n",
       "        </tr>\n",
       "        <tr>\n",
       "            <td>Staten Island</td>\n",
       "            <td>private room</td>\n",
       "            <td>132</td>\n",
       "        </tr>\n",
       "        <tr>\n",
       "            <td>Staten Island</td>\n",
       "            <td>shared room</td>\n",
       "            <td>2</td>\n",
       "        </tr>\n",
       "    </tbody>\n",
       "</table>"
      ],
      "text/plain": [
       "[('Bronx', 'private room', 403),\n",
       " ('Bronx', 'entire home/apt', 261),\n",
       " ('Bronx', 'shared room', 33),\n",
       " ('Brooklyn', 'entire home/apt', 5367),\n",
       " ('Brooklyn', 'private room', 4906),\n",
       " ('Brooklyn', 'shared room', 187),\n",
       " ('Manhattan', 'entire home/apt', 6170),\n",
       " ('Manhattan', 'private room', 3901),\n",
       " ('Manhattan', 'shared room', 251),\n",
       " ('Queens', 'private room', 2009),\n",
       " ('Queens', 'entire home/apt', 1335),\n",
       " ('Queens', 'shared room', 112),\n",
       " ('Staten Island', 'entire home/apt', 133),\n",
       " ('Staten Island', 'private room', 132),\n",
       " ('Staten Island', 'shared room', 2)]"
      ]
     },
     "execution_count": 12,
     "metadata": {},
     "output_type": "execute_result"
    }
   ],
   "source": [
    "%%sql\n",
    "\n",
    "SELECT borough, room_type, COUNT(room_type) AS room_count\n",
    "FROM prices p\n",
    "JOIN room_types rt \n",
    "ON p.listing_id = rt.listing_id\n",
    "GROUP BY 1, 2\n",
    "ORDER BY 1 ASC, 3 DESC"
   ]
  },
  {
   "attachments": {},
   "cell_type": "markdown",
   "metadata": {},
   "source": [
    "5. How many listings in each room type category have a price of over $500 per night?"
   ]
  },
  {
   "cell_type": "code",
   "execution_count": 13,
   "metadata": {},
   "outputs": [
    {
     "name": "stdout",
     "output_type": "stream",
     "text": [
      " * sqlite:///palooza.db\n",
      "Done.\n"
     ]
    },
    {
     "data": {
      "text/html": [
       "<table>\n",
       "    <thead>\n",
       "        <tr>\n",
       "            <th>room_type</th>\n",
       "            <th>num_listings</th>\n",
       "        </tr>\n",
       "    </thead>\n",
       "    <tbody>\n",
       "        <tr>\n",
       "            <td>entire home/apt</td>\n",
       "            <td>395</td>\n",
       "        </tr>\n",
       "        <tr>\n",
       "            <td>private room</td>\n",
       "            <td>19</td>\n",
       "        </tr>\n",
       "        <tr>\n",
       "            <td>shared room</td>\n",
       "            <td>1</td>\n",
       "        </tr>\n",
       "    </tbody>\n",
       "</table>"
      ],
      "text/plain": [
       "[('entire home/apt', 395), ('private room', 19), ('shared room', 1)]"
      ]
     },
     "execution_count": 13,
     "metadata": {},
     "output_type": "execute_result"
    }
   ],
   "source": [
    "%%sql\n",
    "\n",
    "SELECT room_type, COUNT(price) num_listings\n",
    "FROM prices p\n",
    "JOIN room_types rt \n",
    "ON p.listing_id = rt.listing_id\n",
    "WHERE price > 500\n",
    "GROUP BY 1\n"
   ]
  },
  {
   "attachments": {},
   "cell_type": "markdown",
   "metadata": {},
   "source": [
    "6. What is the distribution of listing prices by neighbourhood?"
   ]
  },
  {
   "cell_type": "code",
   "execution_count": 34,
   "metadata": {},
   "outputs": [
    {
     "name": "stdout",
     "output_type": "stream",
     "text": [
      " * sqlite:///palooza.db\n",
      "Done.\n"
     ]
    },
    {
     "data": {
      "text/html": [
       "<table>\n",
       "    <thead>\n",
       "        <tr>\n",
       "            <th>borough</th>\n",
       "            <th>neighbourhood</th>\n",
       "            <th>min_price</th>\n",
       "            <th>max_price</th>\n",
       "            <th>mean_price</th>\n",
       "        </tr>\n",
       "    </thead>\n",
       "    <tbody>\n",
       "        <tr>\n",
       "            <td>Bronx</td>\n",
       "            <td>Allerton</td>\n",
       "            <td>35</td>\n",
       "            <td>450</td>\n",
       "            <td>98.93</td>\n",
       "        </tr>\n",
       "        <tr>\n",
       "            <td>Bronx</td>\n",
       "            <td>Baychester</td>\n",
       "            <td>53</td>\n",
       "            <td>101</td>\n",
       "            <td>78.6</td>\n",
       "        </tr>\n",
       "        <tr>\n",
       "            <td>Bronx</td>\n",
       "            <td>Belmont</td>\n",
       "            <td>24</td>\n",
       "            <td>299</td>\n",
       "            <td>91.88</td>\n",
       "        </tr>\n",
       "        <tr>\n",
       "            <td>Bronx</td>\n",
       "            <td>Bronxdale</td>\n",
       "            <td>40</td>\n",
       "            <td>79</td>\n",
       "            <td>53.6</td>\n",
       "        </tr>\n",
       "        <tr>\n",
       "            <td>Bronx</td>\n",
       "            <td>Castle Hill</td>\n",
       "            <td>62</td>\n",
       "            <td>86</td>\n",
       "            <td>74.0</td>\n",
       "        </tr>\n",
       "    </tbody>\n",
       "</table>"
      ],
      "text/plain": [
       "[('Bronx', 'Allerton', 35, 450, 98.93),\n",
       " ('Bronx', 'Baychester', 53, 101, 78.6),\n",
       " ('Bronx', 'Belmont', 24, 299, 91.88),\n",
       " ('Bronx', 'Bronxdale', 40, 79, 53.6),\n",
       " ('Bronx', 'Castle Hill', 62, 86, 74.0)]"
      ]
     },
     "execution_count": 34,
     "metadata": {},
     "output_type": "execute_result"
    }
   ],
   "source": [
    "%%sql\n",
    "\n",
    "SELECT borough, neighbourhood, \n",
    "        MIN(price) AS min_price, \n",
    "        MAX(price) AS max_price,\n",
    "        ROUND(AVG(price),2) AS mean_price\n",
    "FROM prices\n",
    "GROUP BY 1, 2\n",
    "ORDER BY 1\n",
    "LIMIT 5"
   ]
  },
  {
   "attachments": {},
   "cell_type": "markdown",
   "metadata": {},
   "source": [
    "7. What is the estimated amount of revenue generated by hosts in each borough?"
   ]
  },
  {
   "cell_type": "code",
   "execution_count": 15,
   "metadata": {},
   "outputs": [
    {
     "name": "stdout",
     "output_type": "stream",
     "text": [
      " * sqlite:///palooza.db\n",
      "Done.\n"
     ]
    },
    {
     "data": {
      "text/html": [
       "<table>\n",
       "    <thead>\n",
       "        <tr>\n",
       "            <th>borough</th>\n",
       "            <th>revenue_per_host</th>\n",
       "        </tr>\n",
       "    </thead>\n",
       "    <tbody>\n",
       "        <tr>\n",
       "            <td>Manhattan</td>\n",
       "            <td>184</td>\n",
       "        </tr>\n",
       "        <tr>\n",
       "            <td>Brooklyn</td>\n",
       "            <td>121</td>\n",
       "        </tr>\n",
       "        <tr>\n",
       "            <td>Queens</td>\n",
       "            <td>92</td>\n",
       "        </tr>\n",
       "        <tr>\n",
       "            <td>Staten Island</td>\n",
       "            <td>86</td>\n",
       "        </tr>\n",
       "        <tr>\n",
       "            <td>Bronx</td>\n",
       "            <td>79</td>\n",
       "        </tr>\n",
       "    </tbody>\n",
       "</table>"
      ],
      "text/plain": [
       "[('Manhattan', 184),\n",
       " ('Brooklyn', 121),\n",
       " ('Queens', 92),\n",
       " ('Staten Island', 86),\n",
       " ('Bronx', 79)]"
      ]
     },
     "execution_count": 15,
     "metadata": {},
     "output_type": "execute_result"
    }
   ],
   "source": [
    "%%sql \n",
    "\n",
    "SELECT borough, SUM(price) / COUNT(price) AS revenue_per_host\n",
    "FROM prices\n",
    "GROUP BY 1\n",
    "ORDER BY 2 DESC"
   ]
  },
  {
   "attachments": {},
   "cell_type": "markdown",
   "metadata": {},
   "source": [
    "8. What is the average price per month for listings in each neighborhood?"
   ]
  },
  {
   "cell_type": "code",
   "execution_count": 23,
   "metadata": {},
   "outputs": [
    {
     "name": "stdout",
     "output_type": "stream",
     "text": [
      " * sqlite:///palooza.db\n",
      "Done.\n"
     ]
    },
    {
     "data": {
      "text/html": [
       "<table>\n",
       "    <thead>\n",
       "        <tr>\n",
       "            <th>neighbourhood</th>\n",
       "            <th>avg_price</th>\n",
       "        </tr>\n",
       "    </thead>\n",
       "    <tbody>\n",
       "        <tr>\n",
       "            <td>Sea Gate</td>\n",
       "            <td>24485.42</td>\n",
       "        </tr>\n",
       "        <tr>\n",
       "            <td>Tribeca</td>\n",
       "            <td>12066.44</td>\n",
       "        </tr>\n",
       "        <tr>\n",
       "            <td>Flatiron District</td>\n",
       "            <td>10404.19</td>\n",
       "        </tr>\n",
       "        <tr>\n",
       "            <td>NoHo</td>\n",
       "            <td>10190.33</td>\n",
       "        </tr>\n",
       "        <tr>\n",
       "            <td>SoHo</td>\n",
       "            <td>9099.52</td>\n",
       "        </tr>\n",
       "    </tbody>\n",
       "</table>"
      ],
      "text/plain": [
       "[('Sea Gate', 24485.42),\n",
       " ('Tribeca', 12066.44),\n",
       " ('Flatiron District', 10404.19),\n",
       " ('NoHo', 10190.33),\n",
       " ('SoHo', 9099.52)]"
      ]
     },
     "execution_count": 23,
     "metadata": {},
     "output_type": "execute_result"
    }
   ],
   "source": [
    "%%sql \n",
    "\n",
    "SELECT neighbourhood, ROUND(AVG(price_per_month),2) AS avg_price\n",
    "FROM prices\n",
    "GROUP BY neighbourhood\n",
    "ORDER BY 2 DESC\n",
    "LIMIT 5\n"
   ]
  },
  {
   "attachments": {},
   "cell_type": "markdown",
   "metadata": {},
   "source": [
    "9. How many listings have no reviews?\n"
   ]
  },
  {
   "cell_type": "code",
   "execution_count": 17,
   "metadata": {},
   "outputs": [
    {
     "name": "stdout",
     "output_type": "stream",
     "text": [
      " * sqlite:///palooza.db\n",
      "Done.\n"
     ]
    },
    {
     "data": {
      "text/html": [
       "<table>\n",
       "    <thead>\n",
       "        <tr>\n",
       "            <th>index</th>\n",
       "            <th>Unnamed: 0</th>\n",
       "            <th>listing_id</th>\n",
       "            <th>host_name</th>\n",
       "            <th>last_review</th>\n",
       "            <th>minimum_nights</th>\n",
       "            <th>number_of_reviews</th>\n",
       "            <th>reviews_per_month</th>\n",
       "            <th>calculated_host_listings_count</th>\n",
       "            <th>availability_365</th>\n",
       "            <th>booked_days_365</th>\n",
       "        </tr>\n",
       "    </thead>\n",
       "    <tbody>\n",
       "        <tr>\n",
       "            <td>0</td>\n",
       "            <td>0</td>\n",
       "            <td>2595</td>\n",
       "            <td>Jennifer</td>\n",
       "            <td>2019-05-21 00:00:00</td>\n",
       "            <td>1</td>\n",
       "            <td>45</td>\n",
       "            <td>0.38</td>\n",
       "            <td>2</td>\n",
       "            <td>355</td>\n",
       "            <td>10</td>\n",
       "        </tr>\n",
       "        <tr>\n",
       "            <td>1</td>\n",
       "            <td>1</td>\n",
       "            <td>3831</td>\n",
       "            <td>LisaRoxanne</td>\n",
       "            <td>2019-07-05 00:00:00</td>\n",
       "            <td>1</td>\n",
       "            <td>270</td>\n",
       "            <td>4.64</td>\n",
       "            <td>1</td>\n",
       "            <td>194</td>\n",
       "            <td>171</td>\n",
       "        </tr>\n",
       "        <tr>\n",
       "            <td>2</td>\n",
       "            <td>2</td>\n",
       "            <td>5099</td>\n",
       "            <td>Chris</td>\n",
       "            <td>2019-06-22 00:00:00</td>\n",
       "            <td>3</td>\n",
       "            <td>74</td>\n",
       "            <td>0.59</td>\n",
       "            <td>1</td>\n",
       "            <td>129</td>\n",
       "            <td>236</td>\n",
       "        </tr>\n",
       "        <tr>\n",
       "            <td>3</td>\n",
       "            <td>3</td>\n",
       "            <td>5178</td>\n",
       "            <td>Shunichi</td>\n",
       "            <td>2019-06-24 00:00:00</td>\n",
       "            <td>2</td>\n",
       "            <td>430</td>\n",
       "            <td>3.47</td>\n",
       "            <td>1</td>\n",
       "            <td>220</td>\n",
       "            <td>145</td>\n",
       "        </tr>\n",
       "        <tr>\n",
       "            <td>4</td>\n",
       "            <td>4</td>\n",
       "            <td>5238</td>\n",
       "            <td>Ben</td>\n",
       "            <td>2019-06-09 00:00:00</td>\n",
       "            <td>1</td>\n",
       "            <td>160</td>\n",
       "            <td>1.33</td>\n",
       "            <td>4</td>\n",
       "            <td>188</td>\n",
       "            <td>177</td>\n",
       "        </tr>\n",
       "    </tbody>\n",
       "</table>"
      ],
      "text/plain": [
       "[(0, 0, 2595, 'Jennifer', '2019-05-21 00:00:00', 1, 45, 0.38, 2, 355, 10),\n",
       " (1, 1, 3831, 'LisaRoxanne', '2019-07-05 00:00:00', 1, 270, 4.64, 1, 194, 171),\n",
       " (2, 2, 5099, 'Chris', '2019-06-22 00:00:00', 3, 74, 0.59, 1, 129, 236),\n",
       " (3, 3, 5178, 'Shunichi', '2019-06-24 00:00:00', 2, 430, 3.47, 1, 220, 145),\n",
       " (4, 4, 5238, 'Ben', '2019-06-09 00:00:00', 1, 160, 1.33, 4, 188, 177)]"
      ]
     },
     "execution_count": 17,
     "metadata": {},
     "output_type": "execute_result"
    }
   ],
   "source": [
    "%%sql\n",
    "\n",
    "SELECT *\n",
    "FROM reviews\n",
    "LIMIT 5"
   ]
  },
  {
   "cell_type": "code",
   "execution_count": 26,
   "metadata": {},
   "outputs": [
    {
     "name": "stdout",
     "output_type": "stream",
     "text": [
      " * sqlite:///palooza.db\n",
      "Done.\n"
     ]
    },
    {
     "data": {
      "text/html": [
       "<table>\n",
       "    <thead>\n",
       "        <tr>\n",
       "            <th>num_listings_no_review</th>\n",
       "        </tr>\n",
       "    </thead>\n",
       "    <tbody>\n",
       "        <tr>\n",
       "            <td>8</td>\n",
       "        </tr>\n",
       "    </tbody>\n",
       "</table>"
      ],
      "text/plain": [
       "[(8,)]"
      ]
     },
     "execution_count": 26,
     "metadata": {},
     "output_type": "execute_result"
    }
   ],
   "source": [
    "%%sql \n",
    "\n",
    "SELECT COUNT(rt.listing_id) num_listings_no_review\n",
    "FROM room_types rt\n",
    "LEFT JOIN reviews r \n",
    "ON rt.listing_id = r.listing_id\n",
    "WHERE host_name IS NULL\n",
    "ORDER BY 1 ASC"
   ]
  },
  {
   "attachments": {},
   "cell_type": "markdown",
   "metadata": {},
   "source": [
    "10. How do the estimated book days correlate with the price of an Airbnb listing in New York City?"
   ]
  },
  {
   "cell_type": "code",
   "execution_count": 33,
   "metadata": {},
   "outputs": [
    {
     "name": "stdout",
     "output_type": "stream",
     "text": [
      " * sqlite:///palooza.db\n",
      "Done.\n"
     ]
    },
    {
     "data": {
      "text/html": [
       "<table>\n",
       "    <thead>\n",
       "        <tr>\n",
       "            <th>correlation</th>\n",
       "        </tr>\n",
       "    </thead>\n",
       "    <tbody>\n",
       "        <tr>\n",
       "            <td>-1.4278840527031131</td>\n",
       "        </tr>\n",
       "    </tbody>\n",
       "</table>"
      ],
      "text/plain": [
       "[(-1.4278840527031131,)]"
      ]
     },
     "execution_count": 33,
     "metadata": {},
     "output_type": "execute_result"
    }
   ],
   "source": [
    "%%sql \n",
    "\n",
    "SELECT\n",
    "  (COUNT(p.price * r.booked_days_365) - COUNT(p.price) * AVG(p.price) * AVG(r.booked_days_365)) /\n",
    "  (COUNT(p.price) * AVG(p.price * p.price) - COUNT(p.price) * AVG(p.price) * AVG(p.price)) AS correlation\n",
    "FROM prices p\n",
    "JOIN reviews r\n",
    "ON p.listing_id = r.listing_id\n"
   ]
  },
  {
   "cell_type": "code",
   "execution_count": null,
   "metadata": {},
   "outputs": [],
   "source": [
    "%%sql"
   ]
  }
 ],
 "metadata": {
  "kernelspec": {
   "display_name": "palooza",
   "language": "python",
   "name": "python3"
  },
  "language_info": {
   "codemirror_mode": {
    "name": "ipython",
    "version": 3
   },
   "file_extension": ".py",
   "mimetype": "text/x-python",
   "name": "python",
   "nbconvert_exporter": "python",
   "pygments_lexer": "ipython3",
   "version": "3.11.3"
  },
  "orig_nbformat": 4
 },
 "nbformat": 4,
 "nbformat_minor": 2
}
