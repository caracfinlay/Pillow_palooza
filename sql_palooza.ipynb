{
 "cells": [
  {
   "attachments": {},
   "cell_type": "markdown",
   "metadata": {},
   "source": [
    "# SQL Data Exploration "
   ]
  },
  {
   "attachments": {},
   "cell_type": "markdown",
   "metadata": {},
   "source": [
    "For the purpose of keeping the SQL portion of this project available in our notebooks, we'll create an SQLite connection.\n",
    "\n",
    "Our team at Pillow Palooza has exported the clean and preprocessed data and created a schema for us to use in our analysis. We have also included extra columns (from public data sources) to enhance the analysis. "
   ]
  },
  {
   "attachments": {},
   "cell_type": "markdown",
   "metadata": {},
   "source": [
    "After meeting with your team, you wrote some questions to guide you along the analysis:\n",
    "1. What are the most popular neighborhoods for short-term rentals in New York City?\n",
    "2. What is the average rental price for short-term rentals in New York City, and how does it vary by neighborhood and property type?\n",
    "3. What are the most commonly rented property types on Airbnb in New York City, and how does this vary by neighborhood?\n",
    "4. What is the average length of stay for short-term rentals in New York City, and how does this vary by neighborhood and property type?\n",
    "5. How has demand for short-term rentals in New York City changed over time, and are there any seasonal trends that could impact business decisions?"
   ]
  },
  {
   "cell_type": "code",
   "execution_count": 1,
   "metadata": {},
   "outputs": [],
   "source": [
    "import pandas as pd\n",
    "import sqlite3\n"
   ]
  },
  {
   "cell_type": "code",
   "execution_count": 2,
   "metadata": {},
   "outputs": [],
   "source": [
    "# create the SQLite connection\n",
    "\n",
    "cnn = sqlite3.connect('palooza.db')"
   ]
  },
  {
   "cell_type": "code",
   "execution_count": 3,
   "metadata": {},
   "outputs": [],
   "source": [
    "# import the enriched data\n",
    "\n",
    "prices = pd.read_csv('data_enriched/query_prices.csv')\n",
    "room_types = pd.read_csv('data_enriched/query_room_types.csv')\n",
    "reviews = pd.read_csv('data_enriched/query_reviews.csv')"
   ]
  },
  {
   "cell_type": "code",
   "execution_count": 4,
   "metadata": {},
   "outputs": [
    {
     "data": {
      "text/plain": [
       "25209"
      ]
     },
     "execution_count": 4,
     "metadata": {},
     "output_type": "execute_result"
    }
   ],
   "source": [
    "# Save the data to SQLite\n",
    "\n",
    "prices.to_sql('prices', cnn, if_exists='replace')\n",
    "room_types.to_sql('room_types', cnn, if_exists='replace')\n",
    "reviews.to_sql('reviews', cnn, if_exists='replace')\n",
    "\n"
   ]
  },
  {
   "cell_type": "code",
   "execution_count": 116,
   "metadata": {},
   "outputs": [],
   "source": [
    "# export for tableau\n",
    "\n",
    "df = pd.merge(reviews, prices, on='listing_id')\n",
    "df = pd.merge(df, room_types, on='listing_id')\n",
    "\n",
    "df.to_csv('enriched_airbnb_rental_data.csv')"
   ]
  },
  {
   "cell_type": "code",
   "execution_count": 5,
   "metadata": {},
   "outputs": [
    {
     "data": {
      "text/plain": [
       "'Connected: @palooza.db'"
      ]
     },
     "execution_count": 5,
     "metadata": {},
     "output_type": "execute_result"
    }
   ],
   "source": [
    "# Load the ipython-sql extension\n",
    "%load_ext sql\n",
    "\n",
    "# Connect to the SQLite database\n",
    "%sql sqlite:///palooza.db"
   ]
  },
  {
   "cell_type": "code",
   "execution_count": 6,
   "metadata": {},
   "outputs": [
    {
     "name": "stdout",
     "output_type": "stream",
     "text": [
      " * sqlite:///palooza.db\n",
      "Done.\n"
     ]
    },
    {
     "data": {
      "text/html": [
       "<table>\n",
       "    <thead>\n",
       "        <tr>\n",
       "            <th>COUNT(*)</th>\n",
       "        </tr>\n",
       "    </thead>\n",
       "    <tbody>\n",
       "        <tr>\n",
       "            <td>25202</td>\n",
       "        </tr>\n",
       "    </tbody>\n",
       "</table>"
      ],
      "text/plain": [
       "[(25202,)]"
      ]
     },
     "execution_count": 6,
     "metadata": {},
     "output_type": "execute_result"
    }
   ],
   "source": [
    "%%sql\n",
    "\n",
    "SELECT COUNT(*)\n",
    "FROM prices;\n"
   ]
  },
  {
   "cell_type": "code",
   "execution_count": 7,
   "metadata": {},
   "outputs": [
    {
     "name": "stdout",
     "output_type": "stream",
     "text": [
      " * sqlite:///palooza.db\n",
      "Done.\n"
     ]
    },
    {
     "data": {
      "text/html": [
       "<table>\n",
       "    <thead>\n",
       "        <tr>\n",
       "            <th>COUNT(*)</th>\n",
       "        </tr>\n",
       "    </thead>\n",
       "    <tbody>\n",
       "        <tr>\n",
       "            <td>25209</td>\n",
       "        </tr>\n",
       "    </tbody>\n",
       "</table>"
      ],
      "text/plain": [
       "[(25209,)]"
      ]
     },
     "execution_count": 7,
     "metadata": {},
     "output_type": "execute_result"
    }
   ],
   "source": [
    "%%sql\n",
    "\n",
    "SELECT COUNT(*)\n",
    "FROM room_types;"
   ]
  },
  {
   "cell_type": "code",
   "execution_count": 8,
   "metadata": {},
   "outputs": [
    {
     "name": "stdout",
     "output_type": "stream",
     "text": [
      " * sqlite:///palooza.db\n",
      "Done.\n"
     ]
    },
    {
     "data": {
      "text/html": [
       "<table>\n",
       "    <thead>\n",
       "        <tr>\n",
       "            <th>COUNT(*)</th>\n",
       "        </tr>\n",
       "    </thead>\n",
       "    <tbody>\n",
       "        <tr>\n",
       "            <td>25209</td>\n",
       "        </tr>\n",
       "    </tbody>\n",
       "</table>"
      ],
      "text/plain": [
       "[(25209,)]"
      ]
     },
     "execution_count": 8,
     "metadata": {},
     "output_type": "execute_result"
    }
   ],
   "source": [
    "%%sql\n",
    "\n",
    "SELECT COUNT(*)\n",
    "FROM reviews;"
   ]
  },
  {
   "attachments": {},
   "cell_type": "markdown",
   "metadata": {},
   "source": [
    "## Questions "
   ]
  },
  {
   "attachments": {},
   "cell_type": "markdown",
   "metadata": {},
   "source": [
    "1. What is the most common room type in NYC Airbnb listings?"
   ]
  },
  {
   "cell_type": "code",
   "execution_count": 9,
   "metadata": {},
   "outputs": [
    {
     "name": "stdout",
     "output_type": "stream",
     "text": [
      " * sqlite:///palooza.db\n",
      "Done.\n"
     ]
    },
    {
     "data": {
      "text/html": [
       "<table>\n",
       "    <thead>\n",
       "        <tr>\n",
       "            <th>room_type</th>\n",
       "            <th>type_count</th>\n",
       "        </tr>\n",
       "    </thead>\n",
       "    <tbody>\n",
       "        <tr>\n",
       "            <td>entire home/apt</td>\n",
       "            <td>13266</td>\n",
       "        </tr>\n",
       "        <tr>\n",
       "            <td>private room</td>\n",
       "            <td>11356</td>\n",
       "        </tr>\n",
       "        <tr>\n",
       "            <td>shared room</td>\n",
       "            <td>587</td>\n",
       "        </tr>\n",
       "    </tbody>\n",
       "</table>"
      ],
      "text/plain": [
       "[('entire home/apt', 13266), ('private room', 11356), ('shared room', 587)]"
      ]
     },
     "execution_count": 9,
     "metadata": {},
     "output_type": "execute_result"
    }
   ],
   "source": [
    "%%sql\n",
    "SELECT room_type, COUNT(*) type_count\n",
    "FROM room_types\n",
    "GROUP BY room_type\n",
    "ORDER BY 2 DESC"
   ]
  },
  {
   "attachments": {},
   "cell_type": "markdown",
   "metadata": {},
   "source": [
    "2. What is the average price of a listing by room type?"
   ]
  },
  {
   "cell_type": "code",
   "execution_count": 10,
   "metadata": {},
   "outputs": [
    {
     "name": "stdout",
     "output_type": "stream",
     "text": [
      " * sqlite:///palooza.db\n",
      "Done.\n"
     ]
    },
    {
     "data": {
      "text/html": [
       "<table>\n",
       "    <thead>\n",
       "        <tr>\n",
       "            <th>room_type</th>\n",
       "            <th>average_price</th>\n",
       "        </tr>\n",
       "    </thead>\n",
       "    <tbody>\n",
       "        <tr>\n",
       "            <td>entire home/apt</td>\n",
       "            <td>197.17</td>\n",
       "        </tr>\n",
       "        <tr>\n",
       "            <td>private room</td>\n",
       "            <td>81.67</td>\n",
       "        </tr>\n",
       "        <tr>\n",
       "            <td>shared room</td>\n",
       "            <td>53.65</td>\n",
       "        </tr>\n",
       "    </tbody>\n",
       "</table>"
      ],
      "text/plain": [
       "[('entire home/apt', 197.17), ('private room', 81.67), ('shared room', 53.65)]"
      ]
     },
     "execution_count": 10,
     "metadata": {},
     "output_type": "execute_result"
    }
   ],
   "source": [
    "%%sql\n",
    "SELECT room_type, ROUND(AVG(price),2) average_price\n",
    "FROM prices p\n",
    "JOIN room_types rt \n",
    "ON p.listing_id = rt.listing_id\n",
    "GROUP BY 1\n",
    "ORDER BY 2 DESC"
   ]
  },
  {
   "attachments": {},
   "cell_type": "markdown",
   "metadata": {},
   "source": [
    "3. Which borough has the highest average price per month?"
   ]
  },
  {
   "cell_type": "code",
   "execution_count": 82,
   "metadata": {},
   "outputs": [
    {
     "name": "stdout",
     "output_type": "stream",
     "text": [
      " * sqlite:///palooza.db\n",
      "Done.\n"
     ]
    },
    {
     "data": {
      "text/html": [
       "<table>\n",
       "    <thead>\n",
       "        <tr>\n",
       "            <th>borough</th>\n",
       "            <th>avg_price_per_month</th>\n",
       "        </tr>\n",
       "    </thead>\n",
       "    <tbody>\n",
       "        <tr>\n",
       "            <td>Manhattan</td>\n",
       "            <td>5596.69</td>\n",
       "        </tr>\n",
       "        <tr>\n",
       "            <td>Brooklyn</td>\n",
       "            <td>3710.06</td>\n",
       "        </tr>\n",
       "        <tr>\n",
       "            <td>Queens</td>\n",
       "            <td>2823.09</td>\n",
       "        </tr>\n",
       "        <tr>\n",
       "            <td>Staten Island</td>\n",
       "            <td>2617.2</td>\n",
       "        </tr>\n",
       "        <tr>\n",
       "            <td>Bronx</td>\n",
       "            <td>2410.25</td>\n",
       "        </tr>\n",
       "    </tbody>\n",
       "</table>"
      ],
      "text/plain": [
       "[('Manhattan', 5596.69),\n",
       " ('Brooklyn', 3710.06),\n",
       " ('Queens', 2823.09),\n",
       " ('Staten Island', 2617.2),\n",
       " ('Bronx', 2410.25)]"
      ]
     },
     "execution_count": 82,
     "metadata": {},
     "output_type": "execute_result"
    }
   ],
   "source": [
    "%%sql\n",
    "\n",
    "SELECT borough, ROUND(AVG(price_per_month),2) avg_price_per_month\n",
    "FROM prices\n",
    "GROUP BY 1\n",
    "ORDER BY 2 DESC"
   ]
  },
  {
   "attachments": {},
   "cell_type": "markdown",
   "metadata": {},
   "source": [
    "4. How many listings of each room type are in each borough?"
   ]
  },
  {
   "cell_type": "code",
   "execution_count": 12,
   "metadata": {},
   "outputs": [
    {
     "name": "stdout",
     "output_type": "stream",
     "text": [
      " * sqlite:///palooza.db\n",
      "Done.\n"
     ]
    },
    {
     "data": {
      "text/html": [
       "<table>\n",
       "    <thead>\n",
       "        <tr>\n",
       "            <th>borough</th>\n",
       "            <th>room_type</th>\n",
       "            <th>room_count</th>\n",
       "        </tr>\n",
       "    </thead>\n",
       "    <tbody>\n",
       "        <tr>\n",
       "            <td>Bronx</td>\n",
       "            <td>private room</td>\n",
       "            <td>403</td>\n",
       "        </tr>\n",
       "        <tr>\n",
       "            <td>Bronx</td>\n",
       "            <td>entire home/apt</td>\n",
       "            <td>261</td>\n",
       "        </tr>\n",
       "        <tr>\n",
       "            <td>Bronx</td>\n",
       "            <td>shared room</td>\n",
       "            <td>33</td>\n",
       "        </tr>\n",
       "        <tr>\n",
       "            <td>Brooklyn</td>\n",
       "            <td>entire home/apt</td>\n",
       "            <td>5367</td>\n",
       "        </tr>\n",
       "        <tr>\n",
       "            <td>Brooklyn</td>\n",
       "            <td>private room</td>\n",
       "            <td>4906</td>\n",
       "        </tr>\n",
       "        <tr>\n",
       "            <td>Brooklyn</td>\n",
       "            <td>shared room</td>\n",
       "            <td>187</td>\n",
       "        </tr>\n",
       "        <tr>\n",
       "            <td>Manhattan</td>\n",
       "            <td>entire home/apt</td>\n",
       "            <td>6170</td>\n",
       "        </tr>\n",
       "        <tr>\n",
       "            <td>Manhattan</td>\n",
       "            <td>private room</td>\n",
       "            <td>3901</td>\n",
       "        </tr>\n",
       "        <tr>\n",
       "            <td>Manhattan</td>\n",
       "            <td>shared room</td>\n",
       "            <td>251</td>\n",
       "        </tr>\n",
       "        <tr>\n",
       "            <td>Queens</td>\n",
       "            <td>private room</td>\n",
       "            <td>2009</td>\n",
       "        </tr>\n",
       "        <tr>\n",
       "            <td>Queens</td>\n",
       "            <td>entire home/apt</td>\n",
       "            <td>1335</td>\n",
       "        </tr>\n",
       "        <tr>\n",
       "            <td>Queens</td>\n",
       "            <td>shared room</td>\n",
       "            <td>112</td>\n",
       "        </tr>\n",
       "        <tr>\n",
       "            <td>Staten Island</td>\n",
       "            <td>entire home/apt</td>\n",
       "            <td>133</td>\n",
       "        </tr>\n",
       "        <tr>\n",
       "            <td>Staten Island</td>\n",
       "            <td>private room</td>\n",
       "            <td>132</td>\n",
       "        </tr>\n",
       "        <tr>\n",
       "            <td>Staten Island</td>\n",
       "            <td>shared room</td>\n",
       "            <td>2</td>\n",
       "        </tr>\n",
       "    </tbody>\n",
       "</table>"
      ],
      "text/plain": [
       "[('Bronx', 'private room', 403),\n",
       " ('Bronx', 'entire home/apt', 261),\n",
       " ('Bronx', 'shared room', 33),\n",
       " ('Brooklyn', 'entire home/apt', 5367),\n",
       " ('Brooklyn', 'private room', 4906),\n",
       " ('Brooklyn', 'shared room', 187),\n",
       " ('Manhattan', 'entire home/apt', 6170),\n",
       " ('Manhattan', 'private room', 3901),\n",
       " ('Manhattan', 'shared room', 251),\n",
       " ('Queens', 'private room', 2009),\n",
       " ('Queens', 'entire home/apt', 1335),\n",
       " ('Queens', 'shared room', 112),\n",
       " ('Staten Island', 'entire home/apt', 133),\n",
       " ('Staten Island', 'private room', 132),\n",
       " ('Staten Island', 'shared room', 2)]"
      ]
     },
     "execution_count": 12,
     "metadata": {},
     "output_type": "execute_result"
    }
   ],
   "source": [
    "%%sql\n",
    "\n",
    "SELECT borough, room_type, COUNT(room_type) AS room_count\n",
    "FROM prices p\n",
    "JOIN room_types rt \n",
    "ON p.listing_id = rt.listing_id\n",
    "GROUP BY 1, 2\n",
    "ORDER BY 1 ASC, 3 DESC"
   ]
  },
  {
   "attachments": {},
   "cell_type": "markdown",
   "metadata": {},
   "source": [
    "5. How many listings in each room type category have a price of over $500 per night?"
   ]
  },
  {
   "cell_type": "code",
   "execution_count": 13,
   "metadata": {},
   "outputs": [
    {
     "name": "stdout",
     "output_type": "stream",
     "text": [
      " * sqlite:///palooza.db\n",
      "Done.\n"
     ]
    },
    {
     "data": {
      "text/html": [
       "<table>\n",
       "    <thead>\n",
       "        <tr>\n",
       "            <th>room_type</th>\n",
       "            <th>num_listings</th>\n",
       "        </tr>\n",
       "    </thead>\n",
       "    <tbody>\n",
       "        <tr>\n",
       "            <td>entire home/apt</td>\n",
       "            <td>395</td>\n",
       "        </tr>\n",
       "        <tr>\n",
       "            <td>private room</td>\n",
       "            <td>19</td>\n",
       "        </tr>\n",
       "        <tr>\n",
       "            <td>shared room</td>\n",
       "            <td>1</td>\n",
       "        </tr>\n",
       "    </tbody>\n",
       "</table>"
      ],
      "text/plain": [
       "[('entire home/apt', 395), ('private room', 19), ('shared room', 1)]"
      ]
     },
     "execution_count": 13,
     "metadata": {},
     "output_type": "execute_result"
    }
   ],
   "source": [
    "%%sql\n",
    "\n",
    "SELECT room_type, COUNT(price) num_listings\n",
    "FROM prices p\n",
    "JOIN room_types rt \n",
    "ON p.listing_id = rt.listing_id\n",
    "WHERE price > 500\n",
    "GROUP BY 1\n"
   ]
  },
  {
   "attachments": {},
   "cell_type": "markdown",
   "metadata": {},
   "source": [
    "6. What is the distribution of listing prices by neighbourhood?"
   ]
  },
  {
   "cell_type": "code",
   "execution_count": 85,
   "metadata": {},
   "outputs": [
    {
     "name": "stdout",
     "output_type": "stream",
     "text": [
      " * sqlite:///palooza.db\n",
      "Done.\n"
     ]
    },
    {
     "data": {
      "text/html": [
       "<table>\n",
       "    <thead>\n",
       "        <tr>\n",
       "            <th>borough</th>\n",
       "            <th>min_price</th>\n",
       "            <th>max_price</th>\n",
       "            <th>mean_price</th>\n",
       "        </tr>\n",
       "    </thead>\n",
       "    <tbody>\n",
       "        <tr>\n",
       "            <td>Bronx</td>\n",
       "            <td>20</td>\n",
       "            <td>670</td>\n",
       "            <td>79.24</td>\n",
       "        </tr>\n",
       "        <tr>\n",
       "            <td>Brooklyn</td>\n",
       "            <td>10</td>\n",
       "            <td>7500</td>\n",
       "            <td>121.97</td>\n",
       "        </tr>\n",
       "        <tr>\n",
       "            <td>Manhattan</td>\n",
       "            <td>10</td>\n",
       "            <td>5100</td>\n",
       "            <td>184.0</td>\n",
       "        </tr>\n",
       "        <tr>\n",
       "            <td>Queens</td>\n",
       "            <td>10</td>\n",
       "            <td>2600</td>\n",
       "            <td>92.81</td>\n",
       "        </tr>\n",
       "        <tr>\n",
       "            <td>Staten Island</td>\n",
       "            <td>13</td>\n",
       "            <td>300</td>\n",
       "            <td>86.04</td>\n",
       "        </tr>\n",
       "    </tbody>\n",
       "</table>"
      ],
      "text/plain": [
       "[('Bronx', 20, 670, 79.24),\n",
       " ('Brooklyn', 10, 7500, 121.97),\n",
       " ('Manhattan', 10, 5100, 184.0),\n",
       " ('Queens', 10, 2600, 92.81),\n",
       " ('Staten Island', 13, 300, 86.04)]"
      ]
     },
     "execution_count": 85,
     "metadata": {},
     "output_type": "execute_result"
    }
   ],
   "source": [
    "%%sql\n",
    "\n",
    "SELECT borough, \n",
    "        MIN(price) AS min_price, \n",
    "        MAX(price) AS max_price,\n",
    "        ROUND(AVG(price),2) AS mean_price\n",
    "FROM prices\n",
    "GROUP BY 1\n",
    "ORDER BY 1\n"
   ]
  },
  {
   "attachments": {},
   "cell_type": "markdown",
   "metadata": {},
   "source": [
    "7. What is the estimated amount of revenue generated by hosts in each borough?"
   ]
  },
  {
   "cell_type": "code",
   "execution_count": 89,
   "metadata": {},
   "outputs": [
    {
     "name": "stdout",
     "output_type": "stream",
     "text": [
      " * sqlite:///palooza.db\n",
      "Done.\n"
     ]
    },
    {
     "data": {
      "text/html": [
       "<table>\n",
       "    <thead>\n",
       "        <tr>\n",
       "            <th>index</th>\n",
       "            <th>Unnamed: 0</th>\n",
       "            <th>listing_id</th>\n",
       "            <th>host_name</th>\n",
       "            <th>last_review</th>\n",
       "            <th>minimum_nights</th>\n",
       "            <th>number_of_reviews</th>\n",
       "            <th>reviews_per_month</th>\n",
       "            <th>calculated_host_listings_count</th>\n",
       "            <th>availability_365</th>\n",
       "            <th>booked_days_365</th>\n",
       "        </tr>\n",
       "    </thead>\n",
       "    <tbody>\n",
       "        <tr>\n",
       "            <td>0</td>\n",
       "            <td>0</td>\n",
       "            <td>2595</td>\n",
       "            <td>Jennifer</td>\n",
       "            <td>2019-05-21 00:00:00</td>\n",
       "            <td>1</td>\n",
       "            <td>45</td>\n",
       "            <td>0.38</td>\n",
       "            <td>2</td>\n",
       "            <td>355</td>\n",
       "            <td>10</td>\n",
       "        </tr>\n",
       "        <tr>\n",
       "            <td>1</td>\n",
       "            <td>1</td>\n",
       "            <td>3831</td>\n",
       "            <td>LisaRoxanne</td>\n",
       "            <td>2019-07-05 00:00:00</td>\n",
       "            <td>1</td>\n",
       "            <td>270</td>\n",
       "            <td>4.64</td>\n",
       "            <td>1</td>\n",
       "            <td>194</td>\n",
       "            <td>171</td>\n",
       "        </tr>\n",
       "        <tr>\n",
       "            <td>2</td>\n",
       "            <td>2</td>\n",
       "            <td>5099</td>\n",
       "            <td>Chris</td>\n",
       "            <td>2019-06-22 00:00:00</td>\n",
       "            <td>3</td>\n",
       "            <td>74</td>\n",
       "            <td>0.59</td>\n",
       "            <td>1</td>\n",
       "            <td>129</td>\n",
       "            <td>236</td>\n",
       "        </tr>\n",
       "        <tr>\n",
       "            <td>3</td>\n",
       "            <td>3</td>\n",
       "            <td>5178</td>\n",
       "            <td>Shunichi</td>\n",
       "            <td>2019-06-24 00:00:00</td>\n",
       "            <td>2</td>\n",
       "            <td>430</td>\n",
       "            <td>3.47</td>\n",
       "            <td>1</td>\n",
       "            <td>220</td>\n",
       "            <td>145</td>\n",
       "        </tr>\n",
       "        <tr>\n",
       "            <td>4</td>\n",
       "            <td>4</td>\n",
       "            <td>5238</td>\n",
       "            <td>Ben</td>\n",
       "            <td>2019-06-09 00:00:00</td>\n",
       "            <td>1</td>\n",
       "            <td>160</td>\n",
       "            <td>1.33</td>\n",
       "            <td>4</td>\n",
       "            <td>188</td>\n",
       "            <td>177</td>\n",
       "        </tr>\n",
       "        <tr>\n",
       "            <td>5</td>\n",
       "            <td>5</td>\n",
       "            <td>5295</td>\n",
       "            <td>Lena</td>\n",
       "            <td>2019-06-22 00:00:00</td>\n",
       "            <td>5</td>\n",
       "            <td>53</td>\n",
       "            <td>0.43</td>\n",
       "            <td>1</td>\n",
       "            <td>6</td>\n",
       "            <td>359</td>\n",
       "        </tr>\n",
       "        <tr>\n",
       "            <td>6</td>\n",
       "            <td>6</td>\n",
       "            <td>5441</td>\n",
       "            <td>Kate</td>\n",
       "            <td>2019-06-23 00:00:00</td>\n",
       "            <td>2</td>\n",
       "            <td>188</td>\n",
       "            <td>1.5</td>\n",
       "            <td>1</td>\n",
       "            <td>39</td>\n",
       "            <td>326</td>\n",
       "        </tr>\n",
       "        <tr>\n",
       "            <td>7</td>\n",
       "            <td>7</td>\n",
       "            <td>5803</td>\n",
       "            <td>Laurie</td>\n",
       "            <td>2019-06-24 00:00:00</td>\n",
       "            <td>4</td>\n",
       "            <td>167</td>\n",
       "            <td>1.34</td>\n",
       "            <td>3</td>\n",
       "            <td>314</td>\n",
       "            <td>51</td>\n",
       "        </tr>\n",
       "        <tr>\n",
       "            <td>8</td>\n",
       "            <td>8</td>\n",
       "            <td>6021</td>\n",
       "            <td>Claudio</td>\n",
       "            <td>2019-07-05 00:00:00</td>\n",
       "            <td>2</td>\n",
       "            <td>113</td>\n",
       "            <td>0.91</td>\n",
       "            <td>1</td>\n",
       "            <td>333</td>\n",
       "            <td>32</td>\n",
       "        </tr>\n",
       "        <tr>\n",
       "            <td>9</td>\n",
       "            <td>9</td>\n",
       "            <td>6848</td>\n",
       "            <td>Allen &amp; Irina</td>\n",
       "            <td>2019-06-29 00:00:00</td>\n",
       "            <td>2</td>\n",
       "            <td>148</td>\n",
       "            <td>1.2</td>\n",
       "            <td>1</td>\n",
       "            <td>46</td>\n",
       "            <td>319</td>\n",
       "        </tr>\n",
       "    </tbody>\n",
       "</table>"
      ],
      "text/plain": [
       "[(0, 0, 2595, 'Jennifer', '2019-05-21 00:00:00', 1, 45, 0.38, 2, 355, 10),\n",
       " (1, 1, 3831, 'LisaRoxanne', '2019-07-05 00:00:00', 1, 270, 4.64, 1, 194, 171),\n",
       " (2, 2, 5099, 'Chris', '2019-06-22 00:00:00', 3, 74, 0.59, 1, 129, 236),\n",
       " (3, 3, 5178, 'Shunichi', '2019-06-24 00:00:00', 2, 430, 3.47, 1, 220, 145),\n",
       " (4, 4, 5238, 'Ben', '2019-06-09 00:00:00', 1, 160, 1.33, 4, 188, 177),\n",
       " (5, 5, 5295, 'Lena', '2019-06-22 00:00:00', 5, 53, 0.43, 1, 6, 359),\n",
       " (6, 6, 5441, 'Kate', '2019-06-23 00:00:00', 2, 188, 1.5, 1, 39, 326),\n",
       " (7, 7, 5803, 'Laurie', '2019-06-24 00:00:00', 4, 167, 1.34, 3, 314, 51),\n",
       " (8, 8, 6021, 'Claudio', '2019-07-05 00:00:00', 2, 113, 0.91, 1, 333, 32),\n",
       " (9, 9, 6848, 'Allen & Irina', '2019-06-29 00:00:00', 2, 148, 1.2, 1, 46, 319)]"
      ]
     },
     "execution_count": 89,
     "metadata": {},
     "output_type": "execute_result"
    }
   ],
   "source": [
    "%%sql\n",
    "\n",
    "SELECT *\n",
    "FROM reviews \n",
    "limit 10"
   ]
  },
  {
   "cell_type": "code",
   "execution_count": 92,
   "metadata": {},
   "outputs": [
    {
     "name": "stdout",
     "output_type": "stream",
     "text": [
      " * sqlite:///palooza.db\n",
      "Done.\n"
     ]
    },
    {
     "data": {
      "text/html": [
       "<table>\n",
       "    <thead>\n",
       "        <tr>\n",
       "            <th>borough</th>\n",
       "            <th>revenue_per_host</th>\n",
       "        </tr>\n",
       "    </thead>\n",
       "    <tbody>\n",
       "        <tr>\n",
       "            <td>Manhattan</td>\n",
       "            <td>393420567</td>\n",
       "        </tr>\n",
       "        <tr>\n",
       "            <td>Brooklyn</td>\n",
       "            <td>279130240</td>\n",
       "        </tr>\n",
       "        <tr>\n",
       "            <td>Queens</td>\n",
       "            <td>58404083</td>\n",
       "        </tr>\n",
       "        <tr>\n",
       "            <td>Bronx</td>\n",
       "            <td>9324180</td>\n",
       "        </tr>\n",
       "        <tr>\n",
       "            <td>Staten Island</td>\n",
       "            <td>3443919</td>\n",
       "        </tr>\n",
       "    </tbody>\n",
       "</table>"
      ],
      "text/plain": [
       "[('Manhattan', 393420567),\n",
       " ('Brooklyn', 279130240),\n",
       " ('Queens', 58404083),\n",
       " ('Bronx', 9324180),\n",
       " ('Staten Island', 3443919)]"
      ]
     },
     "execution_count": 92,
     "metadata": {},
     "output_type": "execute_result"
    }
   ],
   "source": [
    "%%sql \n",
    "\n",
    "SELECT p.borough, SUM(p.price*r.booked_days_365) AS revenue_per_host\n",
    "FROM prices p\n",
    "JOIN reviews r\n",
    "ON p.listing_id = r.listing_id\n",
    "GROUP BY 1\n",
    "ORDER BY 2 DESC"
   ]
  },
  {
   "attachments": {},
   "cell_type": "markdown",
   "metadata": {},
   "source": [
    "8. What is the average price per month for listings in each neighborhood?"
   ]
  },
  {
   "cell_type": "code",
   "execution_count": 101,
   "metadata": {},
   "outputs": [
    {
     "name": "stdout",
     "output_type": "stream",
     "text": [
      " * sqlite:///palooza.db\n",
      "Done.\n"
     ]
    },
    {
     "data": {
      "text/html": [
       "<table>\n",
       "    <thead>\n",
       "        <tr>\n",
       "            <th>neighbourhood</th>\n",
       "            <th>avg_price</th>\n",
       "        </tr>\n",
       "    </thead>\n",
       "    <tbody>\n",
       "        <tr>\n",
       "            <td>Sea Gate</td>\n",
       "            <td>24485.42</td>\n",
       "        </tr>\n",
       "        <tr>\n",
       "            <td>Tribeca</td>\n",
       "            <td>12066.44</td>\n",
       "        </tr>\n",
       "        <tr>\n",
       "            <td>Flatiron District</td>\n",
       "            <td>10404.19</td>\n",
       "        </tr>\n",
       "        <tr>\n",
       "            <td>NoHo</td>\n",
       "            <td>10190.33</td>\n",
       "        </tr>\n",
       "        <tr>\n",
       "            <td>SoHo</td>\n",
       "            <td>9099.52</td>\n",
       "        </tr>\n",
       "    </tbody>\n",
       "</table>"
      ],
      "text/plain": [
       "[('Sea Gate', 24485.42),\n",
       " ('Tribeca', 12066.44),\n",
       " ('Flatiron District', 10404.19),\n",
       " ('NoHo', 10190.33),\n",
       " ('SoHo', 9099.52)]"
      ]
     },
     "execution_count": 101,
     "metadata": {},
     "output_type": "execute_result"
    }
   ],
   "source": [
    "%%sql \n",
    "\n",
    "SELECT neighbourhood, ROUND(AVG(price_per_month),2) AS avg_price\n",
    "FROM prices\n",
    "GROUP BY neighbourhood\n",
    "ORDER BY 2 DESC\n",
    "LIMIT 5\n",
    "\n"
   ]
  },
  {
   "attachments": {},
   "cell_type": "markdown",
   "metadata": {},
   "source": [
    "9. How many listings have no reviews?\n"
   ]
  },
  {
   "cell_type": "code",
   "execution_count": 17,
   "metadata": {},
   "outputs": [
    {
     "name": "stdout",
     "output_type": "stream",
     "text": [
      " * sqlite:///palooza.db\n",
      "Done.\n"
     ]
    },
    {
     "data": {
      "text/html": [
       "<table>\n",
       "    <thead>\n",
       "        <tr>\n",
       "            <th>index</th>\n",
       "            <th>Unnamed: 0</th>\n",
       "            <th>listing_id</th>\n",
       "            <th>host_name</th>\n",
       "            <th>last_review</th>\n",
       "            <th>minimum_nights</th>\n",
       "            <th>number_of_reviews</th>\n",
       "            <th>reviews_per_month</th>\n",
       "            <th>calculated_host_listings_count</th>\n",
       "            <th>availability_365</th>\n",
       "            <th>booked_days_365</th>\n",
       "        </tr>\n",
       "    </thead>\n",
       "    <tbody>\n",
       "        <tr>\n",
       "            <td>0</td>\n",
       "            <td>0</td>\n",
       "            <td>2595</td>\n",
       "            <td>Jennifer</td>\n",
       "            <td>2019-05-21 00:00:00</td>\n",
       "            <td>1</td>\n",
       "            <td>45</td>\n",
       "            <td>0.38</td>\n",
       "            <td>2</td>\n",
       "            <td>355</td>\n",
       "            <td>10</td>\n",
       "        </tr>\n",
       "        <tr>\n",
       "            <td>1</td>\n",
       "            <td>1</td>\n",
       "            <td>3831</td>\n",
       "            <td>LisaRoxanne</td>\n",
       "            <td>2019-07-05 00:00:00</td>\n",
       "            <td>1</td>\n",
       "            <td>270</td>\n",
       "            <td>4.64</td>\n",
       "            <td>1</td>\n",
       "            <td>194</td>\n",
       "            <td>171</td>\n",
       "        </tr>\n",
       "        <tr>\n",
       "            <td>2</td>\n",
       "            <td>2</td>\n",
       "            <td>5099</td>\n",
       "            <td>Chris</td>\n",
       "            <td>2019-06-22 00:00:00</td>\n",
       "            <td>3</td>\n",
       "            <td>74</td>\n",
       "            <td>0.59</td>\n",
       "            <td>1</td>\n",
       "            <td>129</td>\n",
       "            <td>236</td>\n",
       "        </tr>\n",
       "        <tr>\n",
       "            <td>3</td>\n",
       "            <td>3</td>\n",
       "            <td>5178</td>\n",
       "            <td>Shunichi</td>\n",
       "            <td>2019-06-24 00:00:00</td>\n",
       "            <td>2</td>\n",
       "            <td>430</td>\n",
       "            <td>3.47</td>\n",
       "            <td>1</td>\n",
       "            <td>220</td>\n",
       "            <td>145</td>\n",
       "        </tr>\n",
       "        <tr>\n",
       "            <td>4</td>\n",
       "            <td>4</td>\n",
       "            <td>5238</td>\n",
       "            <td>Ben</td>\n",
       "            <td>2019-06-09 00:00:00</td>\n",
       "            <td>1</td>\n",
       "            <td>160</td>\n",
       "            <td>1.33</td>\n",
       "            <td>4</td>\n",
       "            <td>188</td>\n",
       "            <td>177</td>\n",
       "        </tr>\n",
       "    </tbody>\n",
       "</table>"
      ],
      "text/plain": [
       "[(0, 0, 2595, 'Jennifer', '2019-05-21 00:00:00', 1, 45, 0.38, 2, 355, 10),\n",
       " (1, 1, 3831, 'LisaRoxanne', '2019-07-05 00:00:00', 1, 270, 4.64, 1, 194, 171),\n",
       " (2, 2, 5099, 'Chris', '2019-06-22 00:00:00', 3, 74, 0.59, 1, 129, 236),\n",
       " (3, 3, 5178, 'Shunichi', '2019-06-24 00:00:00', 2, 430, 3.47, 1, 220, 145),\n",
       " (4, 4, 5238, 'Ben', '2019-06-09 00:00:00', 1, 160, 1.33, 4, 188, 177)]"
      ]
     },
     "execution_count": 17,
     "metadata": {},
     "output_type": "execute_result"
    }
   ],
   "source": [
    "%%sql\n",
    "\n",
    "SELECT *\n",
    "FROM reviews\n",
    "LIMIT 5"
   ]
  },
  {
   "cell_type": "code",
   "execution_count": 111,
   "metadata": {},
   "outputs": [
    {
     "name": "stdout",
     "output_type": "stream",
     "text": [
      " * sqlite:///palooza.db\n",
      "Done.\n"
     ]
    },
    {
     "data": {
      "text/html": [
       "<table>\n",
       "    <thead>\n",
       "        <tr>\n",
       "            <th>num_listings_no_review</th>\n",
       "        </tr>\n",
       "    </thead>\n",
       "    <tbody>\n",
       "        <tr>\n",
       "            <td>0</td>\n",
       "        </tr>\n",
       "    </tbody>\n",
       "</table>"
      ],
      "text/plain": [
       "[(0,)]"
      ]
     },
     "execution_count": 111,
     "metadata": {},
     "output_type": "execute_result"
    }
   ],
   "source": [
    "%%sql \n",
    "\n",
    "SELECT COUNT(r.number_of_reviews) num_listings_no_review\n",
    "FROM prices p\n",
    "LEFT JOIN reviews r \n",
    "ON p.listing_id = r.listing_id\n",
    "WHERE r.number_of_reviews IS NULL \n",
    "ORDER BY 1 ASC"
   ]
  },
  {
   "attachments": {},
   "cell_type": "markdown",
   "metadata": {},
   "source": [
    "10. How do the estimated book days correlate with the price of an Airbnb listing in New York City? (check formula SQLite)"
   ]
  },
  {
   "cell_type": "code",
   "execution_count": 113,
   "metadata": {},
   "outputs": [
    {
     "name": "stdout",
     "output_type": "stream",
     "text": [
      " * sqlite:///palooza.db\n",
      "Done.\n"
     ]
    },
    {
     "data": {
      "text/html": [
       "<table>\n",
       "    <thead>\n",
       "        <tr>\n",
       "            <th>correlation</th>\n",
       "        </tr>\n",
       "    </thead>\n",
       "    <tbody>\n",
       "        <tr>\n",
       "            <td>-1.4278840527031131</td>\n",
       "        </tr>\n",
       "    </tbody>\n",
       "</table>"
      ],
      "text/plain": [
       "[(-1.4278840527031131,)]"
      ]
     },
     "execution_count": 113,
     "metadata": {},
     "output_type": "execute_result"
    }
   ],
   "source": [
    "%%sql \n",
    "\n",
    "SELECT\n",
    "  (COUNT(p.price * r.booked_days_365) - COUNT(p.price) * AVG(p.price) * AVG(r.booked_days_365)) /\n",
    "  (COUNT(p.price) * AVG(p.price * p.price) - COUNT(p.price) * AVG(p.price) * AVG(p.price)) AS correlation\n",
    "FROM prices p\n",
    "JOIN reviews r\n",
    "ON p.listing_id = r.listing_id\n"
   ]
  },
  {
   "attachments": {},
   "cell_type": "markdown",
   "metadata": {},
   "source": [
    "11. What is the average price per room type for listings that have at least 100 reviews and are available more than 200 days a year?"
   ]
  },
  {
   "cell_type": "code",
   "execution_count": 42,
   "metadata": {},
   "outputs": [
    {
     "name": "stdout",
     "output_type": "stream",
     "text": [
      " * sqlite:///palooza.db\n",
      "Done.\n"
     ]
    },
    {
     "data": {
      "text/html": [
       "<table>\n",
       "    <thead>\n",
       "        <tr>\n",
       "            <th>room_type</th>\n",
       "            <th>avg_price</th>\n",
       "        </tr>\n",
       "    </thead>\n",
       "    <tbody>\n",
       "        <tr>\n",
       "            <td>entire home/apt</td>\n",
       "            <td>179.54</td>\n",
       "        </tr>\n",
       "        <tr>\n",
       "            <td>private room</td>\n",
       "            <td>85.41</td>\n",
       "        </tr>\n",
       "        <tr>\n",
       "            <td>shared room</td>\n",
       "            <td>59.19</td>\n",
       "        </tr>\n",
       "    </tbody>\n",
       "</table>"
      ],
      "text/plain": [
       "[('entire home/apt', 179.54), ('private room', 85.41), ('shared room', 59.19)]"
      ]
     },
     "execution_count": 42,
     "metadata": {},
     "output_type": "execute_result"
    }
   ],
   "source": [
    "%%sql\n",
    "SELECT rt.room_type, ROUND(AVG(p.price),2) avg_price\n",
    "FROM prices p \n",
    "JOIN reviews r\n",
    "ON p.listing_id = r.listing_id\n",
    "JOIN room_types rt\n",
    "ON rt.listing_id = r.listing_id\n",
    "WHERE r.availability_365 > 200 AND r.number_of_reviews >= 100 \n",
    "GROUP BY 1\n"
   ]
  },
  {
   "attachments": {},
   "cell_type": "markdown",
   "metadata": {},
   "source": [
    "\n",
    "12. How many hosts have more than one listing, and what's the maximum number of listings by a single host name?\n"
   ]
  },
  {
   "cell_type": "code",
   "execution_count": 50,
   "metadata": {},
   "outputs": [
    {
     "name": "stdout",
     "output_type": "stream",
     "text": [
      " * sqlite:///palooza.db\n",
      "Done.\n"
     ]
    },
    {
     "data": {
      "text/html": [
       "<table>\n",
       "    <thead>\n",
       "        <tr>\n",
       "            <th>num_hosts</th>\n",
       "            <th>max_listings_per_host</th>\n",
       "        </tr>\n",
       "    </thead>\n",
       "    <tbody>\n",
       "        <tr>\n",
       "            <td>2929</td>\n",
       "            <td>215</td>\n",
       "        </tr>\n",
       "    </tbody>\n",
       "</table>"
      ],
      "text/plain": [
       "[(2929, 215)]"
      ]
     },
     "execution_count": 50,
     "metadata": {},
     "output_type": "execute_result"
    }
   ],
   "source": [
    "%%sql\n",
    "WITH listings AS (SELECT host_name, COUNT(listing_id) num_listings\n",
    "FROM reviews\n",
    "GROUP BY host_name\n",
    "HAVING COUNT(listing_id) > 1\n",
    ")\n",
    "\n",
    "SELECT COUNT(host_name) num_hosts, MAX(num_listings) max_listings_per_host\n",
    "FROM listings\n"
   ]
  },
  {
   "attachments": {},
   "cell_type": "markdown",
   "metadata": {},
   "source": [
    "\n",
    "13. Determine the top 5 hosts who have the highest price_per_month for their listings, considering only hosts who have at least 10 listings.\n"
   ]
  },
  {
   "cell_type": "code",
   "execution_count": 66,
   "metadata": {},
   "outputs": [],
   "source": [
    "# Here we aggregated the price_per_month as so that we could see the individual \n",
    "# hosts and as to generate the top 5 distinct hosts  "
   ]
  },
  {
   "cell_type": "code",
   "execution_count": 64,
   "metadata": {},
   "outputs": [
    {
     "name": "stdout",
     "output_type": "stream",
     "text": [
      " * sqlite:///palooza.db\n",
      "Done.\n"
     ]
    },
    {
     "data": {
      "text/html": [
       "<table>\n",
       "    <thead>\n",
       "        <tr>\n",
       "            <th>host_name</th>\n",
       "            <th>avg_monthly_price</th>\n",
       "        </tr>\n",
       "    </thead>\n",
       "    <tbody>\n",
       "        <tr>\n",
       "            <td>Sally</td>\n",
       "            <td>109895.42</td>\n",
       "        </tr>\n",
       "        <tr>\n",
       "            <td>Red Awning</td>\n",
       "            <td>21452.58</td>\n",
       "        </tr>\n",
       "        <tr>\n",
       "            <td>Park Lane</td>\n",
       "            <td>12318.75</td>\n",
       "        </tr>\n",
       "        <tr>\n",
       "            <td>Janet</td>\n",
       "            <td>11334.01</td>\n",
       "        </tr>\n",
       "        <tr>\n",
       "            <td>Yotel</td>\n",
       "            <td>8749.86</td>\n",
       "        </tr>\n",
       "    </tbody>\n",
       "</table>"
      ],
      "text/plain": [
       "[('Sally', 109895.42),\n",
       " ('Red Awning', 21452.58),\n",
       " ('Park Lane', 12318.75),\n",
       " ('Janet', 11334.01),\n",
       " ('Yotel', 8749.86)]"
      ]
     },
     "execution_count": 64,
     "metadata": {},
     "output_type": "execute_result"
    }
   ],
   "source": [
    "%%sql\n",
    "SELECT r.host_name, ROUND(AVG(p.price_per_month),2) avg_monthly_price\n",
    "FROM reviews r\n",
    "JOIN prices p \n",
    "ON r.listing_id = p.listing_id\n",
    "WHERE calculated_host_listings_count > 9\n",
    "GROUP BY 1\n",
    "ORDER BY 2 DESC\n",
    "LIMIT 5\n"
   ]
  },
  {
   "attachments": {},
   "cell_type": "markdown",
   "metadata": {},
   "source": [
    "\n",
    "14. Find the neighborhood(s) that have the highest variance in listing prices."
   ]
  },
  {
   "cell_type": "code",
   "execution_count": 80,
   "metadata": {},
   "outputs": [
    {
     "name": "stdout",
     "output_type": "stream",
     "text": [
      " * sqlite:///palooza.db\n",
      "Done.\n"
     ]
    },
    {
     "data": {
      "text/html": [
       "<table>\n",
       "    <thead>\n",
       "        <tr>\n",
       "            <th>neighbourhood</th>\n",
       "            <th>variance</th>\n",
       "        </tr>\n",
       "    </thead>\n",
       "    <tbody>\n",
       "        <tr>\n",
       "            <td>Sea Gate</td>\n",
       "            <td>902211.2722433434</td>\n",
       "        </tr>\n",
       "        <tr>\n",
       "            <td>Bayside</td>\n",
       "            <td>224007.989366134</td>\n",
       "        </tr>\n",
       "        <tr>\n",
       "            <td>East Flatbush</td>\n",
       "            <td>173838.4025865787</td>\n",
       "        </tr>\n",
       "        <tr>\n",
       "            <td>Tribeca</td>\n",
       "            <td>161899.30747083636</td>\n",
       "        </tr>\n",
       "        <tr>\n",
       "            <td>SoHo</td>\n",
       "            <td>146980.2407632523</td>\n",
       "        </tr>\n",
       "    </tbody>\n",
       "</table>"
      ],
      "text/plain": [
       "[('Sea Gate', 902211.2722433434),\n",
       " ('Bayside', 224007.989366134),\n",
       " ('East Flatbush', 173838.4025865787),\n",
       " ('Tribeca', 161899.30747083636),\n",
       " ('SoHo', 146980.2407632523)]"
      ]
     },
     "execution_count": 80,
     "metadata": {},
     "output_type": "execute_result"
    }
   ],
   "source": [
    "%%sql\n",
    "WITH avg_prices AS (\n",
    "    SELECT AVG(price) AS avg_price\n",
    "    FROM prices\n",
    ")\n",
    "SELECT neighbourhood, AVG((price - avg_price) * (price - avg_price)) AS variance\n",
    "FROM prices, avg_prices\n",
    "GROUP BY 1\n",
    "ORDER BY 2 DESC\n",
    "LIMIT 5\n"
   ]
  },
  {
   "attachments": {},
   "cell_type": "markdown",
   "metadata": {},
   "source": [
    "15. Calculate the average price_per_month for each neighborhood, taking into account only listings where the host has a minimum_nights value that is higher than the average minimum_nights value across all listings."
   ]
  },
  {
   "cell_type": "code",
   "execution_count": 76,
   "metadata": {},
   "outputs": [
    {
     "name": "stdout",
     "output_type": "stream",
     "text": [
      " * sqlite:///palooza.db\n",
      "Done.\n"
     ]
    },
    {
     "data": {
      "text/html": [
       "<table>\n",
       "    <thead>\n",
       "        <tr>\n",
       "            <th>neighbourhood</th>\n",
       "            <th>avg_price_monthly</th>\n",
       "        </tr>\n",
       "    </thead>\n",
       "    <tbody>\n",
       "        <tr>\n",
       "            <td>Bayside</td>\n",
       "            <td>11949.95</td>\n",
       "        </tr>\n",
       "        <tr>\n",
       "            <td>Tribeca</td>\n",
       "            <td>11791.53</td>\n",
       "        </tr>\n",
       "        <tr>\n",
       "            <td>Flatiron District</td>\n",
       "            <td>10172.69</td>\n",
       "        </tr>\n",
       "        <tr>\n",
       "            <td>SoHo</td>\n",
       "            <td>9549.23</td>\n",
       "        </tr>\n",
       "        <tr>\n",
       "            <td>NoHo</td>\n",
       "            <td>9374.04</td>\n",
       "        </tr>\n",
       "    </tbody>\n",
       "</table>"
      ],
      "text/plain": [
       "[('Bayside', 11949.95),\n",
       " ('Tribeca', 11791.53),\n",
       " ('Flatiron District', 10172.69),\n",
       " ('SoHo', 9549.23),\n",
       " ('NoHo', 9374.04)]"
      ]
     },
     "execution_count": 76,
     "metadata": {},
     "output_type": "execute_result"
    }
   ],
   "source": [
    "%%sql\n",
    "SELECT p.neighbourhood, ROUND(AVG(p.price_per_month),2) avg_price_monthly\n",
    "FROM prices p\n",
    "JOIN reviews r \n",
    "ON p.listing_id = r.listing_id\n",
    "WHERE r.minimum_nights > (SELECT AVG(minimum_nights) FROM reviews)\n",
    "GROUP BY 1\n",
    "ORDER BY 2 DESC \n",
    "LIMIT 5"
   ]
  },
  {
   "attachments": {},
   "cell_type": "markdown",
   "metadata": {},
   "source": [
    "## Business questions"
   ]
  },
  {
   "attachments": {},
   "cell_type": "markdown",
   "metadata": {},
   "source": [
    "1. What are the most popular neighborhoods for short-term rentals in New York City?\n"
   ]
  },
  {
   "attachments": {},
   "cell_type": "markdown",
   "metadata": {},
   "source": [
    "2. What is the average rental price for short-term rentals in New York City, and how does it vary by neighborhood and property type?\n"
   ]
  },
  {
   "attachments": {},
   "cell_type": "markdown",
   "metadata": {},
   "source": [
    "3. What are the most commonly rented property types on Airbnb in New York City, and how does this vary by neighborhood?\n"
   ]
  },
  {
   "attachments": {},
   "cell_type": "markdown",
   "metadata": {},
   "source": [
    "4. What is the average length of stay for short-term rentals in New York City, and how does this vary by neighborhood and property type?\n"
   ]
  },
  {
   "attachments": {},
   "cell_type": "markdown",
   "metadata": {},
   "source": [
    "5. How has demand for short-term rentals in New York City changed over time, and are there any seasonal trends that could impact business decisions?"
   ]
  }
 ],
 "metadata": {
  "kernelspec": {
   "display_name": "palooza",
   "language": "python",
   "name": "python3"
  },
  "language_info": {
   "codemirror_mode": {
    "name": "ipython",
    "version": 3
   },
   "file_extension": ".py",
   "mimetype": "text/x-python",
   "name": "python",
   "nbconvert_exporter": "python",
   "pygments_lexer": "ipython3",
   "version": "3.11.3"
  },
  "orig_nbformat": 4
 },
 "nbformat": 4,
 "nbformat_minor": 2
}
